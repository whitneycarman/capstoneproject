{"nbformat_minor": 0, "cells": [{"cell_type": "code", "metadata": {"collapsed": true}, "source": "", "execution_count": null, "outputs": []}], "metadata": {"kernelspec": {"name": "python3", "language": "python"}}, "nbformat": 4}

import pandas as pd, numpy as np
print("Hello Capstone Project Course!")
